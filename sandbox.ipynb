{
 "cells": [
  {
   "cell_type": "code",
   "execution_count": 1,
   "metadata": {},
   "outputs": [],
   "source": [
    "from PIL import ImageColor"
   ]
  },
  {
   "cell_type": "code",
   "execution_count": 53,
   "metadata": {},
   "outputs": [],
   "source": [
    "ATOMS_LIBRARY = {\n",
    "    \"H\": {\"mass\": 1.008, \"color\": \"#b5e48c\", \"radius\": 31},\n",
    "    \"C\": {\"mass\": 12.011, \"color\": \"#333333\", \"radius\": 77},\n",
    "    \"N\": {\"mass\": 14.007, \"color\": \"#072ac8\", \"radius\": 71},\n",
    "    \"O\": {\"mass\": 15.999, \"color\": \"#ff0000\", \"radius\": 66},\n",
    "    \"F\": {\"mass\": 18.9984031636, \"color\": \"#6a040f\", \"radius\": 64},\n",
    "    \"S\": {\"mass\": 32.06, \"color\": \"#fab23d\", \"radius\": 105},\n",
    "    \"He\": {\"mass\": 4.0026022, \"color\": \"#e0aaff\", \"radius\": 28},\n",
    "    \"Ne\": {\"mass\": 20.17976, \"color\": \"#c77dff\", \"radius\": 58},\n",
    "    \"Ar\": {\"mass\": 39.9481, \"color\": \"#9d4edd\", \"radius\": 106},\n",
    "    \"Kr\": {\"mass\": 83.7982, \"color\": \"#7b2cbf\", \"radius\": 116},\n",
    "    \"Xe\": {\"mass\": 131.2936, \"color\": \"#3c096c\", \"radius\": 141},\n",
    "}"
   ]
  },
  {
   "cell_type": "code",
   "execution_count": 57,
   "metadata": {},
   "outputs": [],
   "source": [
    "hex_colors = [ATOMS_LIBRARY[atom][\"color\"] for atom in ATOMS_LIBRARY]\n",
    "rgba_colors = [ImageColor.getcolor(color, \"RGBA\") for color in hex_colors]"
   ]
  },
  {
   "cell_type": "code",
   "execution_count": 58,
   "metadata": {},
   "outputs": [
    {
     "data": {
      "text/plain": [
       "[(181, 228, 140, 0.6),\n",
       " (51, 51, 51, 0.6),\n",
       " (7, 42, 200, 0.6),\n",
       " (255, 0, 0, 0.6),\n",
       " (106, 4, 15, 0.6),\n",
       " (250, 178, 61, 0.6),\n",
       " (224, 170, 255, 0.6),\n",
       " (199, 125, 255, 0.6),\n",
       " (157, 78, 221, 0.6),\n",
       " (123, 44, 191, 0.6),\n",
       " (60, 9, 108, 0.6)]"
      ]
     },
     "execution_count": 58,
     "metadata": {},
     "output_type": "execute_result"
    }
   ],
   "source": [
    "rgba_colors = [color[:3] + (0.6,) for color in rgba_colors]\n",
    "rgba_colors"
   ]
  },
  {
   "cell_type": "code",
   "execution_count": 62,
   "metadata": {},
   "outputs": [
    {
     "data": {
      "text/plain": [
       "{'H': {'mass': 1.008,\n",
       "  'color': '#b5e48c',\n",
       "  'bound_color': 'rgba(181, 228, 140, 0.6)',\n",
       "  'radius': 31},\n",
       " 'C': {'mass': 12.011,\n",
       "  'color': '#333333',\n",
       "  'bound_color': 'rgba(51, 51, 51, 0.6)',\n",
       "  'radius': 77},\n",
       " 'N': {'mass': 14.007,\n",
       "  'color': '#072ac8',\n",
       "  'bound_color': 'rgba(7, 42, 200, 0.6)',\n",
       "  'radius': 71},\n",
       " 'O': {'mass': 15.999,\n",
       "  'color': '#ff0000',\n",
       "  'bound_color': 'rgba(255, 0, 0, 0.6)',\n",
       "  'radius': 66},\n",
       " 'F': {'mass': 18.9984031636,\n",
       "  'color': '#6a040f',\n",
       "  'bound_color': 'rgba(106, 4, 15, 0.6)',\n",
       "  'radius': 64},\n",
       " 'S': {'mass': 32.06,\n",
       "  'color': '#fab23d',\n",
       "  'bound_color': 'rgba(250, 178, 61, 0.6)',\n",
       "  'radius': 105},\n",
       " 'He': {'mass': 4.0026022,\n",
       "  'color': '#e0aaff',\n",
       "  'bound_color': 'rgba(224, 170, 255, 0.6)',\n",
       "  'radius': 28},\n",
       " 'Ne': {'mass': 20.17976,\n",
       "  'color': '#c77dff',\n",
       "  'bound_color': 'rgba(199, 125, 255, 0.6)',\n",
       "  'radius': 58},\n",
       " 'Ar': {'mass': 39.9481,\n",
       "  'color': '#9d4edd',\n",
       "  'bound_color': 'rgba(157, 78, 221, 0.6)',\n",
       "  'radius': 106},\n",
       " 'Kr': {'mass': 83.7982,\n",
       "  'color': '#7b2cbf',\n",
       "  'bound_color': 'rgba(123, 44, 191, 0.6)',\n",
       "  'radius': 116},\n",
       " 'Xe': {'mass': 131.2936,\n",
       "  'color': '#3c096c',\n",
       "  'bound_color': 'rgba(60, 9, 108, 0.6)',\n",
       "  'radius': 141}}"
      ]
     },
     "execution_count": 62,
     "metadata": {},
     "output_type": "execute_result"
    }
   ],
   "source": [
    "# recreate ATOMS_LIBRARY with rgba colors\n",
    "ATOMS_LIBRARY = {\n",
    "    atom: {\n",
    "        \"mass\": data[\"mass\"],\n",
    "        \"color\": data[\"color\"],\n",
    "        \"bound_color\": f\"rgba{rgba}\",\n",
    "        \"radius\": data[\"radius\"],\n",
    "    }\n",
    "    for atom, data, rgba in zip(ATOMS_LIBRARY, ATOMS_LIBRARY.values(), rgba_colors)\n",
    "}\n",
    "ATOMS_LIBRARY"
   ]
  },
  {
   "cell_type": "code",
   "execution_count": 56,
   "metadata": {},
   "outputs": [
    {
     "data": {
      "image/png": "[encoded data removed]",
      "text/plain": [
       "<Figure size 640x480 with 1 Axes>"
      ]
     },
     "metadata": {},
     "output_type": "display_data"
    }
   ],
   "source": [
    "import matplotlib.pyplot as plt\n",
    "import matplotlib.patches as patches\n",
    "\n",
    "# List of hex colors\n",
    "# hex_colors = [\n",
    "#     \"#FF5733\",\n",
    "#     \"#33FF57\",\n",
    "#     \"#3357FF\",\n",
    "#     \"#F33FF5\",\n",
    "# ]  # Replace with your list of colors\n",
    "\n",
    "# Create a figure and a set of subplots\n",
    "fig, ax = plt.subplots()\n",
    "\n",
    "# Set the limit for the axes\n",
    "ax.set_xlim([0, len(hex_colors)])\n",
    "ax.set_ylim([0, 1])\n",
    "\n",
    "# Create a patch for each color and add it to the subplot\n",
    "for i, color in enumerate(hex_colors):\n",
    "    rect = patches.Rectangle((i, 0), 1, 1, linewidth=1, facecolor=color)\n",
    "    ax.add_patch(rect)\n",
    "\n",
    "plt.show()"
   ]
  },
  {
   "cell_type": "code",
   "execution_count": null,
   "metadata": {},
   "outputs": [],
   "source": []
  }
 ],
 "metadata": {
  "kernelspec": {
   "display_name": "Python 3",
   "language": "python",
   "name": "python3"
  },
  "language_info": {
   "codemirror_mode": {
    "name": "ipython",
    "version": 3
   },
   "file_extension": ".py",
   "mimetype": "text/x-python",
   "name": "python",
   "nbconvert_exporter": "python",
   "pygments_lexer": "ipython3",
   "version": "3.11.4"
  }
 },
 "nbformat": 4,
 "nbformat_minor": 2
}
